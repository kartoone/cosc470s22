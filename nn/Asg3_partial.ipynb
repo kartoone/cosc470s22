{
  "nbformat": 4,
  "nbformat_minor": 0,
  "metadata": {
    "colab": {
      "name": "Asg3.ipynb",
      "provenance": [],
      "collapsed_sections": [],
      "mount_file_id": "1Ve6iU6Lj3PgIJJ4TiDjr3cUEgUuONOT9",
      "authorship_tag": "ABX9TyNbYbvWqKNDQZkSpTouh6N6",
      "include_colab_link": true
    },
    "kernelspec": {
      "name": "python3",
      "display_name": "Python 3"
    },
    "language_info": {
      "name": "python"
    },
    "accelerator": "TPU"
  },
  "cells": [
    {
      "cell_type": "markdown",
      "metadata": {
        "id": "view-in-github",
        "colab_type": "text"
      },
      "source": [
        "<a href=\"https://colab.research.google.com/github/kartoone/cosc470s22/blob/main/nn/Asg3_partial.ipynb\" target=\"_parent\"><img src=\"https://colab.research.google.com/assets/colab-badge.svg\" alt=\"Open In Colab\"/></a>"
      ]
    },
    {
      "cell_type": "markdown",
      "source": [
        "**Part 1**\n",
        "Using the \"book\" code to train and evaluate a handwriting digit recognition neural network."
      ],
      "metadata": {
        "id": "Z180C1B22DVr"
      }
    },
    {
      "cell_type": "code",
      "execution_count": 1,
      "metadata": {
        "id": "JD4Kfn-310ap",
        "colab": {
          "base_uri": "https://localhost:8080/"
        },
        "outputId": "be47ccad-7dea-4ab8-9cda-0ff7991ff157"
      },
      "outputs": [
        {
          "output_type": "stream",
          "name": "stdout",
          "text": [
            "Epoch 0 : 8826 / 10000 in 14.69s\n",
            "Epoch 1 : 8985 / 10000 in 6.45s\n",
            "Epoch 2 : 9054 / 10000 in 6.74s\n"
          ]
        }
      ],
      "source": [
        "import sys\n",
        "sys.path.append(\"/content/drive/MyDrive/Colab Notebooks/nn/book\")\n",
        "\n",
        "import network\n",
        "import mnist_loader\n",
        "\n",
        "training_data, validation_data, test_data = mnist_loader.load_data_wrapper()\n",
        "training_data = list(training_data)\n",
        "\n",
        "# part 1 solution\n",
        "net = network.Network([784,15,10])\n",
        "net.SGD(training_data, 3, 10, 3.0, test_data=test_data)\n"
      ]
    },
    {
      "cell_type": "markdown",
      "source": [
        "**IMPORTANT** Understanding the MNIST dataset as well as the \"wrapper\" functionality and how it manipulates the MNIST data to fit the author's network.py implementation of a simple neural network."
      ],
      "metadata": {
        "id": "ZhkXMRHvxWnZ"
      }
    },
    {
      "cell_type": "markdown",
      "source": [
        "**First, let's look at the \"standard\" mnist data layout**"
      ],
      "metadata": {
        "id": "3Xp8nV0oxTX5"
      }
    },
    {
      "cell_type": "code",
      "source": [
        "import numpy as np\n",
        "\n",
        "# first, let's look at the \"standard\" mnist data layout\n",
        "from keras.datasets import mnist\n",
        "(train_X, train_y), (test_X, test_y) = mnist.load_data()\n",
        "print(\"STANDARD MNIST DATASET\")\n",
        "print(\"  training data X\",    np.shape(train_X))     # (60000, 28, 28) ... np.shape() returns dimensions sizes, but you can always think of this has a 1D list of 60,000 two dimensional 28x28 images\n",
        "print(\"  training data X[0]\", np.shape(train_X[0]))  # (28, 28) ... 2D image data\n",
        "print(\"  no validata data\")\n",
        "print(\"  test_data X\",    np.shape(test_X))     # (10000, 28, 28) ... \n",
        "print(\"  test_data X[0]\", np.shape(test_X[0]))  # (28, 28) ... 2D image data"
      ],
      "metadata": {
        "colab": {
          "base_uri": "https://localhost:8080/"
        },
        "id": "zNkebLAs5Gth",
        "outputId": "ee5611ca-099d-4fa0-ddc6-2dd3152cd700"
      },
      "execution_count": 2,
      "outputs": [
        {
          "output_type": "stream",
          "name": "stdout",
          "text": [
            "STANDARD MNIST DATASET\n",
            "  training data X (60000, 28, 28)\n",
            "  training data X[0] (28, 28)\n",
            "  no validata data\n",
            "  test_data X (10000, 28, 28)\n",
            "  test_data X[0] (28, 28)\n"
          ]
        }
      ]
    },
    {
      "cell_type": "markdown",
      "source": [
        "**Now, let's look at the preprocessed \"standard\" mnist data layout**"
      ],
      "metadata": {
        "id": "A94Hv3XQ5dmR"
      }
    },
    {
      "cell_type": "code",
      "source": [
        "# now, let's look at the preprocessed \"standard\" mnist data layout\n",
        "#\n",
        "(tr_X, tr_y), (va_X, va_y), (te_X, te_y) = mnist_loader.load_data()\n",
        "print(\"PRE-PROCESSED MNIST DATASET mnist.pkl.gz\")\n",
        "print(\"  tr_X\",    np.shape(tr_X))     # (60000, 784) ... np.shape() returns dimensions sizes, but you can always think of this has a 1D list of 60,000 one dimensional flattend 784 pixel image\n",
        "print(\"  tr_X[0]\", np.shape(tr_X[0]))  # (784, ) ... 1D pixel image data\n",
        "print(\"  va_X\",    np.shape(va_X))     # (10000, 784)\n",
        "print(\"  va_X[0]\", np.shape(va_X[0]))  # (784, ) ... 1D pixel image data\n",
        "print(\"  te_X\",    np.shape(te_X))     # (10000, 784) ... \n",
        "print(\"  te_X[0]\", np.shape(te_X[0]))  # (784, ) ... 1D pixel image data"
      ],
      "metadata": {
        "colab": {
          "base_uri": "https://localhost:8080/"
        },
        "id": "sJ9tlGy65Lta",
        "outputId": "5086a13a-5a0b-4508-c3d8-d078f4b885e6"
      },
      "execution_count": 3,
      "outputs": [
        {
          "output_type": "stream",
          "name": "stdout",
          "text": [
            "PRE-PROCESSED MNIST DATASET mnist.pkl.gz\n",
            "  tr_X (50000, 784)\n",
            "  tr_X[0] (784,)\n",
            "  va_X (10000, 784)\n",
            "  va_X[0] (784,)\n",
            "  te_X (10000, 784)\n",
            "  te_X[0] (784,)\n"
          ]
        }
      ]
    },
    {
      "cell_type": "markdown",
      "source": [
        "**Finally, let's look at the additional post-processing dataset layout**"
      ],
      "metadata": {
        "id": "fm06UJJ85Sxd"
      }
    },
    {
      "cell_type": "code",
      "source": [
        "training_data, validation_data, test_data = mnist_loader.load_data_wrapper()\n",
        "training_data = list(training_data)\n",
        "validation_data = list(validation_data)\n",
        "test_data = list(test_data)\n",
        "print(np.shape(training_data))\n",
        "print(np.shape(validation_data))\n",
        "print(np.shape(test_data))\n",
        "print(np.shape(test_data[0][0]))\n",
        "print(test_data[0][1])\n",
        "print(np.reshape(test_data[0][0],(28,28)))\n",
        "\n"
      ],
      "metadata": {
        "colab": {
          "base_uri": "https://localhost:8080/"
        },
        "id": "L3TYEv-T5RDw",
        "outputId": "e8b61041-af83-432a-cea8-eaf5433a8647"
      },
      "execution_count": 4,
      "outputs": [
        {
          "output_type": "stream",
          "name": "stdout",
          "text": [
            "(50000, 2)\n",
            "(10000, 2)\n",
            "(10000, 2)\n",
            "(784, 1)\n",
            "7\n",
            "[[0.         0.         0.         0.         0.         0.\n",
            "  0.         0.         0.         0.         0.         0.\n",
            "  0.         0.         0.         0.         0.         0.\n",
            "  0.         0.         0.         0.         0.         0.\n",
            "  0.         0.         0.         0.        ]\n",
            " [0.         0.         0.         0.         0.         0.\n",
            "  0.         0.         0.         0.         0.         0.\n",
            "  0.         0.         0.         0.         0.         0.\n",
            "  0.         0.         0.         0.         0.         0.\n",
            "  0.         0.         0.         0.        ]\n",
            " [0.         0.         0.         0.         0.         0.\n",
            "  0.         0.         0.         0.         0.         0.\n",
            "  0.         0.         0.         0.         0.         0.\n",
            "  0.         0.         0.         0.         0.         0.\n",
            "  0.         0.         0.         0.        ]\n",
            " [0.         0.         0.         0.         0.         0.\n",
            "  0.         0.         0.         0.         0.         0.\n",
            "  0.         0.         0.         0.         0.         0.\n",
            "  0.         0.         0.         0.         0.         0.\n",
            "  0.         0.         0.         0.        ]\n",
            " [0.         0.         0.         0.         0.         0.\n",
            "  0.         0.         0.         0.         0.         0.\n",
            "  0.         0.         0.         0.         0.         0.\n",
            "  0.         0.         0.         0.         0.         0.\n",
            "  0.         0.         0.         0.        ]\n",
            " [0.         0.         0.         0.         0.         0.\n",
            "  0.         0.         0.         0.         0.         0.\n",
            "  0.         0.         0.         0.         0.         0.\n",
            "  0.         0.         0.         0.         0.         0.\n",
            "  0.         0.         0.         0.        ]\n",
            " [0.         0.         0.         0.         0.         0.\n",
            "  0.         0.         0.         0.         0.         0.\n",
            "  0.         0.         0.         0.         0.         0.\n",
            "  0.         0.         0.         0.         0.         0.\n",
            "  0.         0.         0.         0.        ]\n",
            " [0.         0.         0.         0.         0.         0.\n",
            "  0.328125   0.72265625 0.62109375 0.58984375 0.234375   0.140625\n",
            "  0.         0.         0.         0.         0.         0.\n",
            "  0.         0.         0.         0.         0.         0.\n",
            "  0.         0.         0.         0.        ]\n",
            " [0.         0.         0.         0.         0.         0.\n",
            "  0.8671875  0.9921875  0.9921875  0.9921875  0.9921875  0.94140625\n",
            "  0.7734375  0.7734375  0.7734375  0.7734375  0.7734375  0.7734375\n",
            "  0.7734375  0.7734375  0.6640625  0.203125   0.         0.\n",
            "  0.         0.         0.         0.        ]\n",
            " [0.         0.         0.         0.         0.         0.\n",
            "  0.26171875 0.4453125  0.28125    0.4453125  0.63671875 0.88671875\n",
            "  0.9921875  0.87890625 0.9921875  0.9921875  0.9921875  0.9765625\n",
            "  0.89453125 0.9921875  0.9921875  0.546875   0.         0.\n",
            "  0.         0.         0.         0.        ]\n",
            " [0.         0.         0.         0.         0.         0.\n",
            "  0.         0.         0.         0.         0.         0.06640625\n",
            "  0.2578125  0.0546875  0.26171875 0.26171875 0.26171875 0.23046875\n",
            "  0.08203125 0.921875   0.9921875  0.4140625  0.         0.\n",
            "  0.         0.         0.         0.        ]\n",
            " [0.         0.         0.         0.         0.         0.\n",
            "  0.         0.         0.         0.         0.         0.\n",
            "  0.         0.         0.         0.         0.         0.\n",
            "  0.32421875 0.98828125 0.81640625 0.0703125  0.         0.\n",
            "  0.         0.         0.         0.        ]\n",
            " [0.         0.         0.         0.         0.         0.\n",
            "  0.         0.         0.         0.         0.         0.\n",
            "  0.         0.         0.         0.         0.         0.0859375\n",
            "  0.91015625 0.99609375 0.32421875 0.         0.         0.\n",
            "  0.         0.         0.         0.        ]\n",
            " [0.         0.         0.         0.         0.         0.\n",
            "  0.         0.         0.         0.         0.         0.\n",
            "  0.         0.         0.         0.         0.         0.50390625\n",
            "  0.9921875  0.9296875  0.171875   0.         0.         0.\n",
            "  0.         0.         0.         0.        ]\n",
            " [0.         0.         0.         0.         0.         0.\n",
            "  0.         0.         0.         0.         0.         0.\n",
            "  0.         0.         0.         0.         0.23046875 0.97265625\n",
            "  0.9921875  0.2421875  0.         0.         0.         0.\n",
            "  0.         0.         0.         0.        ]\n",
            " [0.         0.         0.         0.         0.         0.\n",
            "  0.         0.         0.         0.         0.         0.\n",
            "  0.         0.         0.         0.         0.51953125 0.9921875\n",
            "  0.73046875 0.01953125 0.         0.         0.         0.\n",
            "  0.         0.         0.         0.        ]\n",
            " [0.         0.         0.         0.         0.         0.\n",
            "  0.         0.         0.         0.         0.         0.\n",
            "  0.         0.         0.         0.03515625 0.80078125 0.96875\n",
            "  0.2265625  0.         0.         0.         0.         0.\n",
            "  0.         0.         0.         0.        ]\n",
            " [0.         0.         0.         0.         0.         0.\n",
            "  0.         0.         0.         0.         0.         0.\n",
            "  0.         0.         0.         0.4921875  0.9921875  0.7109375\n",
            "  0.         0.         0.         0.         0.         0.\n",
            "  0.         0.         0.         0.        ]\n",
            " [0.         0.         0.         0.         0.         0.\n",
            "  0.         0.         0.         0.         0.         0.\n",
            "  0.         0.         0.29296875 0.98046875 0.9375     0.22265625\n",
            "  0.         0.         0.         0.         0.         0.\n",
            "  0.         0.         0.         0.        ]\n",
            " [0.         0.         0.         0.         0.         0.\n",
            "  0.         0.         0.         0.         0.         0.\n",
            "  0.         0.07421875 0.86328125 0.9921875  0.6484375  0.\n",
            "  0.         0.         0.         0.         0.         0.\n",
            "  0.         0.         0.         0.        ]\n",
            " [0.         0.         0.         0.         0.         0.\n",
            "  0.         0.         0.         0.         0.         0.\n",
            "  0.01171875 0.79296875 0.9921875  0.85546875 0.13671875 0.\n",
            "  0.         0.         0.         0.         0.         0.\n",
            "  0.         0.         0.         0.        ]\n",
            " [0.         0.         0.         0.         0.         0.\n",
            "  0.         0.         0.         0.         0.         0.\n",
            "  0.1484375  0.9921875  0.9921875  0.30078125 0.         0.\n",
            "  0.         0.         0.         0.         0.         0.\n",
            "  0.         0.         0.         0.        ]\n",
            " [0.         0.         0.         0.         0.         0.\n",
            "  0.         0.         0.         0.         0.         0.12109375\n",
            "  0.875      0.9921875  0.44921875 0.00390625 0.         0.\n",
            "  0.         0.         0.         0.         0.         0.\n",
            "  0.         0.         0.         0.        ]\n",
            " [0.         0.         0.         0.         0.         0.\n",
            "  0.         0.         0.         0.         0.         0.51953125\n",
            "  0.9921875  0.9921875  0.203125   0.         0.         0.\n",
            "  0.         0.         0.         0.         0.         0.\n",
            "  0.         0.         0.         0.        ]\n",
            " [0.         0.         0.         0.         0.         0.\n",
            "  0.         0.         0.         0.         0.23828125 0.9453125\n",
            "  0.9921875  0.9921875  0.203125   0.         0.         0.\n",
            "  0.         0.         0.         0.         0.         0.\n",
            "  0.         0.         0.         0.        ]\n",
            " [0.         0.         0.         0.         0.         0.\n",
            "  0.         0.         0.         0.         0.47265625 0.9921875\n",
            "  0.9921875  0.85546875 0.15625    0.         0.         0.\n",
            "  0.         0.         0.         0.         0.         0.\n",
            "  0.         0.         0.         0.        ]\n",
            " [0.         0.         0.         0.         0.         0.\n",
            "  0.         0.         0.         0.         0.47265625 0.9921875\n",
            "  0.80859375 0.0703125  0.         0.         0.         0.\n",
            "  0.         0.         0.         0.         0.         0.\n",
            "  0.         0.         0.         0.        ]\n",
            " [0.         0.         0.         0.         0.         0.\n",
            "  0.         0.         0.         0.         0.         0.\n",
            "  0.         0.         0.         0.         0.         0.\n",
            "  0.         0.         0.         0.         0.         0.\n",
            "  0.         0.         0.         0.        ]]\n"
          ]
        },
        {
          "output_type": "stream",
          "name": "stderr",
          "text": [
            "/usr/local/lib/python3.7/dist-packages/numpy/core/_asarray.py:83: VisibleDeprecationWarning: Creating an ndarray from ragged nested sequences (which is a list-or-tuple of lists-or-tuples-or ndarrays with different lengths or shapes) is deprecated. If you meant to do this, you must specify 'dtype=object' when creating the ndarray\n",
            "  return array(a, dtype, copy=False, order=order)\n"
          ]
        }
      ]
    },
    {
      "cell_type": "markdown",
      "source": [
        "**EXPLORE** Displaying an example image from the \"test\" dataset that was correctly classified as well as one that was incorrectly classified"
      ],
      "metadata": {
        "id": "Ozn2cSK-oxts"
      }
    },
    {
      "cell_type": "code",
      "source": [
        "from mnist_viz import plot_image \n",
        "test_image = list(np.reshape(test_data[888][0],(28,28)))\n",
        "plot_image(test_image)"
      ],
      "metadata": {
        "colab": {
          "base_uri": "https://localhost:8080/",
          "height": 264
        },
        "id": "tvxy5Zq5o5ct",
        "outputId": "68e1cf0d-015a-4c9a-9d15-2e8e15546a5e"
      },
      "execution_count": 5,
      "outputs": [
        {
          "output_type": "display_data",
          "data": {
            "image/png": "[encoded data removed]",
            "text/plain": [
              "<Figure size 432x288 with 1 Axes>"
            ]
          },
          "metadata": {
            "needs_background": "light"
          }
        }
      ]
    }
  ]
}