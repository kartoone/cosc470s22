{
  "nbformat": 4,
  "nbformat_minor": 0,
  "metadata": {
    "colab": {
      "name": "Asg1",
      "provenance": [],
      "collapsed_sections": [],
      "mount_file_id": "1ypTHUW3a7nj4sN22CWpj_ZYj930auesx",
      "authorship_tag": "ABX9TyNNqFROP/fTbsZSDP+1jwyS",
      "include_colab_link": true
    },
    "kernelspec": {
      "name": "python3",
      "display_name": "Python 3"
    },
    "language_info": {
      "name": "python"
    }
  },
  "cells": [
    {
      "cell_type": "markdown",
      "metadata": {
        "id": "view-in-github",
        "colab_type": "text"
      },
      "source": [
        "<a href=\"https://colab.research.google.com/github/kartoone/cosc470s22/blob/main/learningpython/Asg1.ipynb\" target=\"_parent\"><img src=\"https://colab.research.google.com/assets/colab-badge.svg\" alt=\"Open In Colab\"/></a>"
      ]
    },
    {
      "cell_type": "code",
      "execution_count": 11,
      "metadata": {
        "colab": {
          "base_uri": "https://localhost:8080/"
        },
        "id": "c85FGxg-kwt9",
        "outputId": "100fb226-b4c7-4ad1-b79f-7b85109d4229"
      },
      "outputs": [
        {
          "output_type": "stream",
          "name": "stdout",
          "text": [
            "There are  37  stocks whose stock symbol does not start with the same letter as their name.\n"
          ]
        }
      ],
      "source": [
        "# part 1\n",
        "import json\n",
        "with open('/content/drive/MyDrive/constituents_json.json') as f:\n",
        "  data = json.load(f)\n",
        "# print(data) # <=== uncomment if you want to see the data\n",
        "count = 0\n",
        "for stock in data:\n",
        "  if stock['Name'][0] != stock['Symbol'][0]:\n",
        "    count = count + 1\n",
        "print(\"There are \", count, \" stocks whose stock symbol does not start with the same letter as their name.\")\n"
      ]
    },
    {
      "cell_type": "code",
      "source": [
        "# part 2\n",
        "# use a dictionary of counts where the keys are the sectors\n",
        "counts = {}\n",
        "\n",
        "# pass 1: initialize all the sectors to have a zero count\n",
        "for stock in data:\n",
        "  sector = stock['Sector'] # the sector for this stock ... will be used as a key in our counts dictionary\n",
        "  if not sector in counts: # check if sector is a key in the counts dictionary\n",
        "    counts[sector] = 0     # initialize the dictionary value at key sector to 0\n",
        "\n",
        "print(\"The 'sector' counts, all initialized to zero.\")\n",
        "print(counts)\n",
        "print()\n",
        "\n",
        "# pass 2: increment all the counts appropriately\n",
        "for stock in data:\n",
        "  if stock['Name'][0] != stock['Symbol'][0]:\n",
        "    sector = stock['Sector']\n",
        "    counts[sector] = counts[sector] + 1\n",
        "\n",
        "print(\"The unsorted 'sector' counts.\")\n",
        "print(counts)\n",
        "print()\n",
        "\n",
        "# the cool \"stackoverflow\" way of sorting a dictionary by value\n",
        "# brief explanation: counts.items() returns a list of key value-pairs\n",
        "# sorted is a function that sorts a list with a user-specified function for selecting the \"key\" to use as the value for sorting \n",
        "# so we are passing in an anonymous function that simply says grab the second item (position 1) from the two item key-value pair so that we end up sorting by values\n",
        "# convert that sorted list into a dictionary by calling the dict() function\n",
        "sortedcounts = dict(sorted(counts.items(), key=lambda item: item[1]))\n",
        "print(\"The sorted counts using the fancy stackoverflow approach\")\n",
        "print(sortedcounts)\n",
        "print()\n",
        "\n",
        "# understandable code that is basically an insertion sort algorithm\n",
        "# basic idea is to insert the counts into the dictionary in the correct\n",
        "# order by always picking the maximum count from the remaining counts\n",
        "# and then removing that count from the original counts dictionary\n",
        "sortedcounts = {}\n",
        "\n",
        "while len(counts)>0:  # loop until we don't have any counts left\n",
        "  # find maximum count in our counts and add that one to sortecounts\n",
        "  maxcount = -1\n",
        "  for sector, count in counts.items():\n",
        "    if count>maxcount: # we found a new max ... update both the count and the sector name\n",
        "      maxcount = count\n",
        "      maxsector = sector\n",
        "\n",
        "  # after the for loop ends we will have found the max count\n",
        "  # go ahead and add it to the dictionary as shown below:\n",
        "  sortedcounts[maxsector] = maxcount\n",
        "\n",
        "  # remove the sector we just added from our dictionary of counts since we have placed it at the correct position in sortedcounts\n",
        "  counts.pop(maxsector)\n",
        "\n",
        "print(\"The sorted counts (in descending order) using an insertion sort algorithm\")\n",
        "print(sortedcounts)\n"
      ],
      "metadata": {
        "colab": {
          "base_uri": "https://localhost:8080/"
        },
        "id": "aunDVkUipN-b",
        "outputId": "1ebda8f9-f8dd-44ee-9954-7a7430984683"
      },
      "execution_count": 13,
      "outputs": [
        {
          "output_type": "stream",
          "name": "stdout",
          "text": [
            "The 'sector' counts, all initialized to zero.\n",
            "{'Industrials': 0, 'Health Care': 0, 'Information Technology': 0, 'Communication Services': 0, 'Consumer Staples': 0, 'Consumer Discretionary': 0, 'Utilities': 0, 'Financials': 0, 'Materials': 0, 'Real Estate': 0, 'Energy': 0}\n",
            "\n",
            "The unsorted 'sector' counts.\n",
            "{'Industrials': 4, 'Health Care': 5, 'Information Technology': 5, 'Communication Services': 4, 'Consumer Staples': 6, 'Consumer Discretionary': 2, 'Utilities': 2, 'Financials': 4, 'Materials': 1, 'Real Estate': 2, 'Energy': 2}\n",
            "\n",
            "The sorted counts using the fancy stackoverflow approach\n",
            "{'Materials': 1, 'Consumer Discretionary': 2, 'Utilities': 2, 'Real Estate': 2, 'Energy': 2, 'Industrials': 4, 'Communication Services': 4, 'Financials': 4, 'Health Care': 5, 'Information Technology': 5, 'Consumer Staples': 6}\n",
            "\n",
            "The sorted counts (in descending order) using an insertion sort algorithm\n",
            "{'Consumer Staples': 6, 'Health Care': 5, 'Information Technology': 5, 'Industrials': 4, 'Communication Services': 4, 'Financials': 4, 'Consumer Discretionary': 2, 'Utilities': 2, 'Real Estate': 2, 'Energy': 2, 'Materials': 1}\n"
          ]
        }
      ]
    },
    {
      "cell_type": "code",
      "source": [
        ""
      ],
      "metadata": {
        "id": "fzMs_9KHucwP"
      },
      "execution_count": null,
      "outputs": []
    }
  ]
}