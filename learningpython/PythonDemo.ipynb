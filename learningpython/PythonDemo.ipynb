{
  "nbformat": 4,
  "nbformat_minor": 0,
  "metadata": {
    "colab": {
      "name": "PythonDemo",
      "provenance": [],
      "collapsed_sections": [],
      "mount_file_id": "16sSlbIfOP9pVd1t-Z6McRUDG0z_BxuRH",
      "authorship_tag": "ABX9TyNGuGHo/UT03yLePOE9BkiE",
      "include_colab_link": true
    },
    "kernelspec": {
      "name": "python3",
      "display_name": "Python 3"
    },
    "language_info": {
      "name": "python"
    }
  },
  "cells": [
    {
      "cell_type": "markdown",
      "metadata": {
        "id": "view-in-github",
        "colab_type": "text"
      },
      "source": [
        "<a href=\"https://colab.research.google.com/github/kartoone/cosc470s22/blob/main/learningpython/PythonDemo.ipynb\" target=\"_parent\"><img src=\"https://colab.research.google.com/assets/colab-badge.svg\" alt=\"Open In Colab\"/></a>"
      ]
    },
    {
      "cell_type": "markdown",
      "source": [
        "**Demostrating Python types**"
      ],
      "metadata": {
        "id": "etb2VbWCQiV_"
      }
    },
    {
      "cell_type": "code",
      "execution_count": null,
      "metadata": {
        "colab": {
          "base_uri": "https://localhost:8080/"
        },
        "id": "YQx8vRyhPWhq",
        "outputId": "51ee6a99-f32f-48fe-bbef-4a7ad7cc1ac4"
      },
      "outputs": [
        {
          "output_type": "stream",
          "name": "stdout",
          "text": [
            "True 0 3.14159 hello, world\n"
          ]
        }
      ],
      "source": [
        "success = True\n",
        "count = 0\n",
        "pi = 3.14159\n",
        "msg = \"hello, world\"\n",
        "print(success, count, pi, msg)\n",
        "\n"
      ]
    },
    {
      "cell_type": "markdown",
      "source": [
        "**Working with Strings**"
      ],
      "metadata": {
        "id": "IwtaVXBNSzn7"
      }
    },
    {
      "cell_type": "code",
      "source": [
        "# string concatenation\n",
        "first = 'Brian'\n",
        "last = 'Toone'\n",
        "name = first + ' ' + last\n",
        "print(name)\n",
        "\n",
        "# string multiplication repeats the string \n",
        "eightzeros = 8*'0'\n",
        "print(eightzeros)\n",
        "\n",
        "# string manipulation\n",
        "# accessing an individual character\n",
        "print(name[0]) # first character\n",
        "print(name[-1]) # last character\n",
        "print(name[0:3]) # first three characters\n",
        "print(name[2:5]) # characters 2, 3, and 4\n",
        "print(name[1::2]) # every other character from beginning to end\n",
        "print(len(name)) # prints the length of the string"
      ],
      "metadata": {
        "colab": {
          "base_uri": "https://localhost:8080/"
        },
        "id": "HT-8COOhS3cT",
        "outputId": "86db72df-2170-4d90-b1fc-8c7ce627bb9e"
      },
      "execution_count": null,
      "outputs": [
        {
          "output_type": "stream",
          "name": "stdout",
          "text": [
            "Brian Toone\n",
            "00000000\n",
            "B\n",
            "e\n",
            "Bri\n",
            "ian\n",
            "ra on\n",
            "11\n"
          ]
        }
      ]
    },
    {
      "cell_type": "markdown",
      "source": [
        "**Lists**"
      ],
      "metadata": {
        "id": "bapw_5UgXrUR"
      }
    },
    {
      "cell_type": "code",
      "source": [
        "names = [] # creates an empty list\n",
        "names.append(\"Brian Toone\")\n",
        "names = names + [\"John Smith\", \"Sally Smith\"]\n",
        "print(names)\n",
        "print('Sally Smith' + ' is located at index 2:',names.index('Sally Smith')) # returns the index of the given item\n",
        "\n",
        "print('Removing ' +names.pop(1) + ' at position 1') # removes the item at position 1\n",
        "print('Removing Brian Toone directly without the index.')\n",
        "names.remove('Brian Toone') # removes the first occurrence of 'Brian Toone'\n",
        "print(names)\n",
        "\n",
        "nums = [3, 8, 2, 0, 1] # creates a list of numbers\n",
        "print(nums)\n",
        "\n",
        "print('Sorting nums (note this changes the list order permanently)')\n",
        "nums.sort()\n",
        "print(nums)\n"
      ],
      "metadata": {
        "colab": {
          "base_uri": "https://localhost:8080/"
        },
        "id": "b4yXGEemX2N8",
        "outputId": "6ff90c33-51f0-4b0f-bbae-0aef4cf2aafa"
      },
      "execution_count": null,
      "outputs": [
        {
          "output_type": "stream",
          "name": "stdout",
          "text": [
            "['Brian Toone', 'John Smith', 'Sally Smith']\n",
            "Sally Smith is located at index 2: 2\n",
            "Removing John Smith at position 1\n",
            "Removing Brian Toone directly without the index.\n",
            "['Sally Smith']\n",
            "[3, 8, 2, 0, 1]\n",
            "Sorting nums (note this changes the list order permanently)\n",
            "[0, 1, 2, 3, 8]\n"
          ]
        }
      ]
    },
    {
      "cell_type": "markdown",
      "source": [
        "**List comprehensions** is a powerful way of initializing a list using an embedded for loop. Best way to explain is to see it by example below."
      ],
      "metadata": {
        "id": "Didrq8nevmA2"
      }
    },
    {
      "cell_type": "code",
      "source": [
        "evennums = [2*i for i in range(100)]\n",
        "print(evennums)"
      ],
      "metadata": {
        "colab": {
          "base_uri": "https://localhost:8080/"
        },
        "id": "4AMas4hEvcmj",
        "outputId": "59880a5b-2b78-4c29-febf-187e6f2c69c2"
      },
      "execution_count": 10,
      "outputs": [
        {
          "output_type": "stream",
          "name": "stdout",
          "text": [
            "[0, 2, 4, 6, 8, 10, 12, 14, 16, 18, 20, 22, 24, 26, 28, 30, 32, 34, 36, 38, 40, 42, 44, 46, 48, 50, 52, 54, 56, 58, 60, 62, 64, 66, 68, 70, 72, 74, 76, 78, 80, 82, 84, 86, 88, 90, 92, 94, 96, 98, 100, 102, 104, 106, 108, 110, 112, 114, 116, 118, 120, 122, 124, 126, 128, 130, 132, 134, 136, 138, 140, 142, 144, 146, 148, 150, 152, 154, 156, 158, 160, 162, 164, 166, 168, 170, 172, 174, 176, 178, 180, 182, 184, 186, 188, 190, 192, 194, 196, 198]\n"
          ]
        }
      ]
    },
    {
      "cell_type": "markdown",
      "source": [
        "Lists do NOT have to be **type consistent** but you should consider whether this is something you \"ought\" to be doing ... how readable is your code? Will you (or somebody else) understand what the list is trying to represent? \n"
      ],
      "metadata": {
        "id": "0LaSMUbCv3mh"
      }
    },
    {
      "cell_type": "code",
      "source": [
        "# Not necessarily a great idea, but OK if the list is relatively short (probably needs to be shorter than this)\n",
        "student = ['Brian Toone', 3.5, True, 1]\n",
        "print(student)"
      ],
      "metadata": {
        "colab": {
          "base_uri": "https://localhost:8080/"
        },
        "id": "R6I6S-JTkfEj",
        "outputId": "abd895f4-ab11-4dae-e40a-390d8922f45c"
      },
      "execution_count": 1,
      "outputs": [
        {
          "output_type": "stream",
          "name": "stdout",
          "text": [
            "['Brian Toone', 3.5, True, 1]\n"
          ]
        }
      ]
    },
    {
      "cell_type": "markdown",
      "source": [
        "**Dictionaries**\n",
        "are much better to use in the situation where you want to group multiple pieces of data together that have different types. A dictionary is simply a list of **key-value pairs**. You could think of a dictionary as a \"list\" that is indexed by strings (typically) instead of numbers. Although you will see in these first examples, you can index a dictionary with any type and even mix the types of the keys (also bad idea)."
      ],
      "metadata": {
        "id": "44KKqOmBlItU"
      }
    },
    {
      "cell_type": "code",
      "source": [
        "dictionary = {}\n",
        "dictionary['term'] = \"this is the 'value' for the term 'term'\"\n",
        "dictionary['anotherterm'] = \"this is the definition (i.e., 'value') of a different term called 'anotherterm'\"\n",
        "dictionary[3] = \"allowed, but bad idea\"\n",
        "print(dictionary)\n",
        "\n",
        "sparselist = {}\n",
        "sparselist[920348323] = 'john smith'\n",
        "sparselist[939392192] = 'jane doe'\n",
        "print(sparselist)\n",
        "\n",
        "floatingdictionary = {}\n",
        "floatingdictionary[0.0] = \"zero\"\n",
        "floatingdictionary[0.5] = \"one half\"\n",
        "floatingdictionary[1.0] = \"one\"\n",
        "floatingdictionary[1.5] = \"one and a half\"\n",
        "print(floatingdictionary)\n",
        "\n",
        "strangedictionary = {}\n",
        "strangedictionary[True] = ['apple','orange','cherry','pear']\n",
        "strangedictionary[False] = ['carrot', 'broccolli', 'green beans']\n",
        "print(strangedictionary)"
      ],
      "metadata": {
        "colab": {
          "base_uri": "https://localhost:8080/"
        },
        "id": "KEMuhPhLlhGX",
        "outputId": "4314cd2c-e0c8-4972-a0b7-b60fca336ddd"
      },
      "execution_count": 12,
      "outputs": [
        {
          "output_type": "stream",
          "name": "stdout",
          "text": [
            "{'term': \"this is the 'value' for the term 'term'\", 'anotherterm': \"this is the definition (i.e., 'value') of a different term called 'anotherterm'\", 3: 'allowed, but bad idea'}\n",
            "{920348323: 'john smith', 939392192: 'jane doe'}\n",
            "{0.0: 'zero', 0.5: 'one half', 1.0: 'one', 1.5: 'one and a half'}\n",
            "{True: ['apple', 'orange', 'cherry', 'pear'], False: ['carrot', 'broccolli', 'green beans']}\n"
          ]
        }
      ]
    },
    {
      "cell_type": "code",
      "source": [
        "# the previous examples were all pretty weird ... here is the most common way of using dictionaries\n",
        "# let's say we want to create a list of students\n",
        "students = []   # this creates an empty list\n",
        "\n",
        "# now let's populate the student list interactively\n",
        "while True:\n",
        "  student = {} # each student record will be a dictionary ... start out by creating an empty dictionary\n",
        "  student['name'] = input(\"Student name (enter QUIT to exit)? \")\n",
        "  if (student['name']=='QUIT'):\n",
        "    break\n",
        "  student['gpa'] = float(input(\"GPA? \")) # everything comes across as a string, so have to manually convert to floating point number\n",
        "  student['employee'] = True if input(\"Employee (Y/N)? \") == 'Y' else False   # note the ternary operator is quite verbose in python, so it is also pretty self explanatory\n",
        "  student['year'] = int(input('Year (1-freshman, 2-sophomore, etc...)? ')) # again, we must convert from string to integer\n",
        "  students.append(student) # this appends the dictionary representing a single student to the list of students\n",
        "\n",
        "print(students) # note that this happens AFTER we break out of the while loop"
      ],
      "metadata": {
        "colab": {
          "base_uri": "https://localhost:8080/"
        },
        "id": "yrQaExzQm35g",
        "outputId": "d5f0ccab-b77d-4c54-d0de-92b8119580c5"
      },
      "execution_count": 9,
      "outputs": [
        {
          "output_type": "stream",
          "name": "stdout",
          "text": [
            "Student name (enter QUIT to exit)? asdf\n",
            "GPA? 3.5\n",
            "Employee (Y/N)? Y\n",
            "Year (1-freshman, 2-sophomore, etc...)? 1\n",
            "Student name (enter QUIT to exit)? sdfg\n",
            "GPA? 4.0\n",
            "Employee (Y/N)? n\n",
            "Year (1-freshman, 2-sophomore, etc...)? 5\n",
            "Student name (enter QUIT to exit)? QUIT\n",
            "[{'name': 'asdf', 'gpa': 3.5, 'employee': True, 'year': 1}, {'name': 'sdfg', 'gpa': 4.0, 'employee': False, 'year': 5}]\n"
          ]
        }
      ]
    },
    {
      "cell_type": "markdown",
      "source": [
        "**Control flow statements**"
      ],
      "metadata": {
        "id": "-d9yFIFEcObr"
      }
    },
    {
      "cell_type": "code",
      "source": [
        "words = ['cat','window','defenestrate']\n",
        "for w in words:\n",
        "  print(w, len(w))"
      ],
      "metadata": {
        "colab": {
          "base_uri": "https://localhost:8080/"
        },
        "id": "-cFrPdAlcSbs",
        "outputId": "0fc53470-793e-48d4-84a9-8593bed2f2a5"
      },
      "execution_count": null,
      "outputs": [
        {
          "output_type": "stream",
          "name": "stdout",
          "text": [
            "cat 3\n",
            "window 6\n",
            "defenestrate 12\n"
          ]
        }
      ]
    },
    {
      "cell_type": "code",
      "source": [
        "for i, w in enumerate(words):\n",
        "  print(i, w)"
      ],
      "metadata": {
        "colab": {
          "base_uri": "https://localhost:8080/"
        },
        "id": "xhgpKOlMcqXa",
        "outputId": "14fdd646-7f88-4bdb-b4b6-9574d378e8e5"
      },
      "execution_count": null,
      "outputs": [
        {
          "output_type": "stream",
          "name": "stdout",
          "text": [
            "0 cat\n",
            "1 window\n",
            "2 defenestrate\n"
          ]
        }
      ]
    },
    {
      "cell_type": "code",
      "source": [
        "for i in range(len(words)):\n",
        "  print(i, words[i], len(words[i]))"
      ],
      "metadata": {
        "colab": {
          "base_uri": "https://localhost:8080/"
        },
        "id": "ZAACiXjYdpVw",
        "outputId": "06f414a8-0ae1-4922-b5c7-d25c5c43d2c9"
      },
      "execution_count": null,
      "outputs": [
        {
          "output_type": "stream",
          "name": "stdout",
          "text": [
            "0 cat\n",
            "1 window\n",
            "2 defenestrate\n"
          ]
        }
      ]
    }
  ]
}