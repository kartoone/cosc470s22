{
  "nbformat": 4,
  "nbformat_minor": 0,
  "metadata": {
    "colab": {
      "name": "asg2",
      "provenance": [],
      "authorship_tag": "ABX9TyMWycp5KI7MHMSYkeBWbQ0I",
      "include_colab_link": true
    },
    "kernelspec": {
      "name": "python3",
      "display_name": "Python 3"
    },
    "language_info": {
      "name": "python"
    }
  },
  "cells": [
    {
      "cell_type": "markdown",
      "metadata": {
        "id": "view-in-github",
        "colab_type": "text"
      },
      "source": [
        "<a href=\"https://colab.research.google.com/github/kartoone/cosc470s22/blob/main/learningpython/asg2.ipynb\" target=\"_parent\"><img src=\"https://colab.research.google.com/assets/colab-badge.svg\" alt=\"Open In Colab\"/></a>"
      ]
    },
    {
      "cell_type": "markdown",
      "source": [
        "Classes in Python are defined with the keyword class and lots of indentation."
      ],
      "metadata": {
        "id": "OlivKY83bj6d"
      }
    },
    {
      "cell_type": "code",
      "execution_count": 1,
      "metadata": {
        "colab": {
          "base_uri": "https://localhost:8080/"
        },
        "id": "in3D1JvUWPxa",
        "outputId": "ab02efd7-fa3f-44fa-91a5-da5ca5ab031c"
      },
      "outputs": [
        {
          "output_type": "stream",
          "name": "stdout",
          "text": [
            "0 nand 0 = 1\n",
            "0 nand 1 = 1\n",
            "1 nand 0 = 1\n",
            "1 nand 1 = 0\n"
          ]
        }
      ],
      "source": [
        "class Perceptron:\n",
        "\n",
        "  def __init__(self, w, b):\n",
        "    self.weights = w\n",
        "    self.bias = b\n",
        "\n",
        "  # note that x must be a list AND must be the same length as our weights\n",
        "  def evaluate(self, x):\n",
        "    if len(x) != len(self.weights):\n",
        "      raise Exception(f\"expected {len(self.weights)} inputs but got {len(x)} instead!\")\n",
        "    sum = 0\n",
        "    for i in range(len(x)):\n",
        "      sum = sum + x[i]*self.weights[i]\n",
        "    return 1 if sum + self.bias > 0 else 0\n",
        "\n",
        "nandinputs = [[0, 0], [0, 1], [1, 0], [1, 1]]\n",
        "p = Perceptron([-2, -2], 3)\n",
        "for input in nandinputs:\n",
        "  print(f\"{input[0]} nand {input[1]} = {p.evaluate(input)}\")\n"
      ]
    },
    {
      "cell_type": "code",
      "source": [
        "# part 2: perceptron network that implements a half-adder\n",
        "# use 5 \"nand\" perceptrons\n",
        "\n",
        "# overall inputs to our \"half-adder\"\n",
        "adderinputs = [[0, 0], [0, 1], [1, 0], [1, 1]]\n",
        "\n",
        "p1 = Perceptron([-2, -2], 3)\n",
        "p2 = Perceptron([-2, -2], 3)\n",
        "p3 = Perceptron([-2, -2], 3)\n",
        "p4 = Perceptron([-2, -2], 3)\n",
        "p5 = Perceptron([-2, -2], 3)\n",
        "\n",
        "for x in adderinputs:\n",
        "  p1out = p1.evaluate([x[0], x[1]])\n",
        "  p2out = p2.evaluate([x[0], p1out])\n",
        "  p3out = ???\n",
        "  p4out = ???\n",
        "  p5out = ???\n",
        "  sum = ???\n",
        "  carryout = ???\n",
        "  print(sum, carryout)"
      ],
      "metadata": {
        "id": "vutzwgP1gb7Y"
      },
      "execution_count": null,
      "outputs": []
    }
  ]
}