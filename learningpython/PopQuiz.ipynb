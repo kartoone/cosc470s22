{
  "nbformat": 4,
  "nbformat_minor": 0,
  "metadata": {
    "colab": {
      "name": "PopQuiz",
      "provenance": [],
      "collapsed_sections": [],
      "authorship_tag": "ABX9TyOShYhGNNscx6HTE1xnVMvZ",
      "include_colab_link": true
    },
    "kernelspec": {
      "name": "python3",
      "display_name": "Python 3"
    },
    "language_info": {
      "name": "python"
    }
  },
  "cells": [
    {
      "cell_type": "markdown",
      "metadata": {
        "id": "view-in-github",
        "colab_type": "text"
      },
      "source": [
        "<a href=\"https://colab.research.google.com/github/kartoone/cosc470s22/blob/main/learningpython/PopQuiz.ipynb\" target=\"_parent\"><img src=\"https://colab.research.google.com/assets/colab-badge.svg\" alt=\"Open In Colab\"/></a>"
      ]
    },
    {
      "cell_type": "code",
      "execution_count": 2,
      "metadata": {
        "colab": {
          "base_uri": "https://localhost:8080/"
        },
        "id": "26rBL2sHJu8z",
        "outputId": "64de6e53-e4a2-40bc-c9e4-1f83c228cde4"
      },
      "outputs": [
        {
          "output_type": "stream",
          "name": "stdout",
          "text": [
            "5050\n"
          ]
        }
      ],
      "source": [
        "# sum up all the numbers between 1 and 100 inclusive\n",
        "# hint: use range in your for loop, remembering that it's inclusive on the left and exclusive on the right end\n",
        "sum = 0\n",
        "for i in range(0,101):\n",
        "  sum = sum + i\n",
        "print(sum)\n"
      ]
    },
    {
      "cell_type": "code",
      "source": [
        "# print a message indicating whether the sum is even or odd\n",
        "if sum % 2 == 0:\n",
        "  print(f\"{sum} is even\")\n",
        "else:\n",
        "  print(\"sum is odd\")\n",
        "\n",
        "# alternatively in one line\n",
        "print(\"sum is even\" if sum%2 == 0 else \"sum is odd\")"
      ],
      "metadata": {
        "colab": {
          "base_uri": "https://localhost:8080/"
        },
        "id": "zoFrCDi_Lq1S",
        "outputId": "fe99bd40-5df6-4527-d1aa-a7eef1fc857f"
      },
      "execution_count": 9,
      "outputs": [
        {
          "output_type": "stream",
          "name": "stdout",
          "text": [
            "5050 is even\n",
            "sum is even\n"
          ]
        }
      ]
    },
    {
      "cell_type": "code",
      "source": [
        "# experimentally determine the pattern\n",
        "# that yields an even or odd number of numbers\n",
        "# between a given starting point and ending point\n",
        "bookends = [\n",
        "            [0,10],\n",
        "            [1,9],\n",
        "            [0,9],\n",
        "            [1,10],\n",
        "            [4,8],\n",
        "            [5,7],\n",
        "            [100,10001],\n",
        "            [101,100000]\n",
        "           ]\n",
        "print(len(bookends)) # displays 4 b/c there are only four items in bookends\n",
        "print(bookends[0]) # displays the first nested list in its entirety\n",
        "print(bookends[0][0]) # displays the first item in the first nested list\n",
        "print(bookends[0][1]) # displays the second item in the first nested list\n",
        "for endpoints in bookends:\n",
        "  count = 0\n",
        "  for i in range(endpoints[0],endpoints[1]+1):\n",
        "    count = count + 1\n",
        "  print(f\"count b/t {endpoints[0]} and {endpoints[1]} is {count}\")\n"
      ],
      "metadata": {
        "colab": {
          "base_uri": "https://localhost:8080/"
        },
        "id": "-kY9wGiLOqa2",
        "outputId": "652def36-1e32-4d51-a7e6-503ff1a4530c"
      },
      "execution_count": 18,
      "outputs": [
        {
          "output_type": "stream",
          "name": "stdout",
          "text": [
            "8\n",
            "[0, 10]\n",
            "0\n",
            "10\n",
            "count b/t 0 and 10 is 11\n",
            "count b/t 1 and 9 is 9\n",
            "count b/t 0 and 9 is 10\n",
            "count b/t 1 and 10 is 10\n",
            "count b/t 4 and 8 is 5\n",
            "count b/t 5 and 7 is 3\n",
            "count b/t 100 and 10001 is 9902\n",
            "count b/t 101 and 100000 is 99900\n"
          ]
        }
      ]
    }
  ]
}