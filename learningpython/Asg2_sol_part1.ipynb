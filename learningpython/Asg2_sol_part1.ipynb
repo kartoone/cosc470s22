{
  "nbformat": 4,
  "nbformat_minor": 0,
  "metadata": {
    "colab": {
      "name": "Asg2_sol_part1.ipynb",
      "provenance": [],
      "collapsed_sections": [],
      "mount_file_id": "1QwLLnekddV_nsEF3W_v572SucuvV7P0f",
      "authorship_tag": "ABX9TyP5FpjKrDXwXv28Z45/BC5n",
      "include_colab_link": true
    },
    "kernelspec": {
      "name": "python3",
      "display_name": "Python 3"
    },
    "language_info": {
      "name": "python"
    }
  },
  "cells": [
    {
      "cell_type": "markdown",
      "metadata": {
        "id": "view-in-github",
        "colab_type": "text"
      },
      "source": [
        "<a href=\"https://colab.research.google.com/github/kartoone/cosc470s22/blob/main/learningpython/Asg2_sol_part1.ipynb\" target=\"_parent\"><img src=\"https://colab.research.google.com/assets/colab-badge.svg\" alt=\"Open In Colab\"/></a>"
      ]
    },
    {
      "cell_type": "code",
      "execution_count": null,
      "metadata": {
        "id": "3ua0YTnSspYE"
      },
      "outputs": [],
      "source": [
        "# don't do this! but it does make the import easier ... \n",
        "# the problem is that you end up with TWO copies of the same file \n",
        "# and subsequenlty make changes to the wrong file and spend hours trying\n",
        "# to figure out why it isn't working\n",
        "#!cp \"drive/MyDrive/Colab Notebooks/learningpython/Perceptron.py\" .\n"
      ]
    },
    {
      "cell_type": "code",
      "source": [
        "# use this approach instead\n",
        "# simply append your google drive path to the system path \n",
        "# and then import it the \"normal way\"\n",
        "import sys\n",
        "sys.path.append(\"/content/drive/MyDrive/Colab Notebooks/\")\n",
        "\n",
        "# the normal way of doing python module imports\n",
        "# see class discussion\n",
        "#import learningpython.Perceptron\n",
        "#learningpython.Perceptron.perceptron_unit_test()\n",
        "#p1 = learningpython.Perceptron.Perceptron([-2, -2], 3)\n",
        "#p2 = learningpython.Perceptron.Perceptron([-2, -2], 3)\n",
        "#p3 = learningpython.Perceptron.Perceptron([-2, -2], 3)\n",
        "#p4 = learningpython.Perceptron.Perceptron([-2, -2], 3)\n",
        "#p5 = learningpython.Perceptron.Perceptron([-2, -2], 3)\n",
        "\n",
        "from learningpython.Perceptron import Perceptron\n",
        "from learningpython.Perceptron import perceptron_unit_test\n",
        "perceptron_unit_test()\n",
        "\n",
        "p1 = Perceptron([-2, -2], 3)\n",
        "p2 = Perceptron([-2, -2], 3)\n",
        "p3 = Perceptron([-2, -2], 3)\n",
        "p4 = Perceptron([-2, -2], 3)\n",
        "p5 = Perceptron([-2, -2], 3)\n",
        "\n",
        "allinputs = [[0, 0], [0, 1], [1, 0], [1, 1]]\n",
        "for input in allinputs:\n",
        "  p1out = p1.evaluate(input)\n",
        "  p2out = p2.evaluate([input[0], p1out])\n",
        "  p3out = p3.evaluate([p1out, input[1]])\n",
        "  carry = p4.evaluate([p1out, p1out])\n",
        "  sum = p5.evaluate([p2out, p3out])\n",
        "  print(f\"{input[0]}+{input[1]}={carry}{sum}\")"
      ],
      "metadata": {
        "colab": {
          "base_uri": "https://localhost:8080/"
        },
        "id": "AeBz9XwVxc4x",
        "outputId": "09522da5-7a53-4f57-86f5-ef545c9dec4b"
      },
      "execution_count": null,
      "outputs": [
        {
          "output_type": "stream",
          "name": "stdout",
          "text": [
            "0 nand 0 = 1\n",
            "0 nand 1 = 1\n",
            "1 nand 0 = 1\n",
            "1 nand 1 = 0\n",
            "0+0=00\n",
            "0+1=01\n",
            "1+0=01\n",
            "1+1=10\n"
          ]
        }
      ]
    }
  ]
}