{
  "nbformat": 4,
  "nbformat_minor": 0,
  "metadata": {
    "colab": {
      "name": "Perceptron",
      "provenance": [],
      "collapsed_sections": [],
      "authorship_tag": "ABX9TyPVoDMpjOMTfNJv/B3l5OIc",
      "include_colab_link": true
    },
    "kernelspec": {
      "name": "python3",
      "display_name": "Python 3"
    },
    "language_info": {
      "name": "python"
    }
  },
  "cells": [
    {
      "cell_type": "markdown",
      "metadata": {
        "id": "view-in-github",
        "colab_type": "text"
      },
      "source": [
        "<a href=\"https://colab.research.google.com/github/kartoone/cosc470s22/blob/main/learningpython/Perceptron.ipynb\" target=\"_parent\"><img src=\"https://colab.research.google.com/assets/colab-badge.svg\" alt=\"Open In Colab\"/></a>"
      ]
    },
    {
      "cell_type": "code",
      "execution_count": 8,
      "metadata": {
        "colab": {
          "base_uri": "https://localhost:8080/"
        },
        "id": "N3HeXhKPxH3X",
        "outputId": "f05fb4e9-29f6-4aaa-abe1-fd055859d90f"
      },
      "outputs": [
        {
          "output_type": "stream",
          "name": "stdout",
          "text": [
            "0 nand 0 = 1\n",
            "0 nand 1 = 1\n",
            "1 nand 0 = 1\n",
            "1 nand 1 = 0\n"
          ]
        }
      ],
      "source": [
        "class Perceptron:\n",
        "  def __init__(self, w, b):\n",
        "    self.weights = w      # be sure that w is a \"new\" list for each Perceptron when you instantiate!\n",
        "    self.bias = b         # be sure that b isn't somehow an object that can be shared, it should be a raw number or reference to variable that is itself a raw number (not some sort of number object)\n",
        "  \n",
        "  # i should have same length as our list of weights\n",
        "  # returns a 0 if the weighted sum of inputs plus bias <= 0\n",
        "  # returns a 1 if the weighted sum of inputs plus bias > 0\n",
        "  def evaluate(self, inputs):\n",
        "    if len(inputs) != len(self.weights):\n",
        "      raise Exception(f\"incorrect number of inputs, expecting {len(self.weights)}, but received {len(i)}.\" )\n",
        "    sum = 0\n",
        "    for index, i in enumerate(inputs):\n",
        "      sum = sum + i*self.weights[index]\n",
        "    return 0 if sum+self.bias <= 0 else 1\n",
        "\n",
        "p1 = Perceptron([-2,-2],3)\n",
        "inputcombos = [[0, 0], [0, 1], [1, 0], [1, 1]]\n",
        "for input in inputcombos:\n",
        "  print(f\"{input[0]} nand {input[1]} = {p1.evaluate(input)}\")"
      ]
    }
  ]
}