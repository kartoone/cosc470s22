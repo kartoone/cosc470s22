{
  "nbformat": 4,
  "nbformat_minor": 0,
  "metadata": {
    "colab": {
      "name": "PythonDemo",
      "provenance": [],
      "collapsed_sections": [],
      "mount_file_id": "16sSlbIfOP9pVd1t-Z6McRUDG0z_BxuRH",
      "authorship_tag": "ABX9TyPY+lkFg1ocmnHFACO9oKWm",
      "include_colab_link": true
    },
    "kernelspec": {
      "name": "python3",
      "display_name": "Python 3"
    },
    "language_info": {
      "name": "python"
    }
  },
  "cells": [
    {
      "cell_type": "markdown",
      "metadata": {
        "id": "view-in-github",
        "colab_type": "text"
      },
      "source": [
        "<a href=\"https://colab.research.google.com/github/kartoone/cosc470s22/blob/main/cosc470s22/learningpython/PythonDemo.ipynb\" target=\"_parent\"><img src=\"https://colab.research.google.com/assets/colab-badge.svg\" alt=\"Open In Colab\"/></a>"
      ]
    },
    {
      "cell_type": "markdown",
      "source": [
        "**Demostrating Python types**"
      ],
      "metadata": {
        "id": "etb2VbWCQiV_"
      }
    },
    {
      "cell_type": "code",
      "execution_count": null,
      "metadata": {
        "colab": {
          "base_uri": "https://localhost:8080/"
        },
        "id": "YQx8vRyhPWhq",
        "outputId": "51ee6a99-f32f-48fe-bbef-4a7ad7cc1ac4"
      },
      "outputs": [
        {
          "output_type": "stream",
          "name": "stdout",
          "text": [
            "True 0 3.14159 hello, world\n"
          ]
        }
      ],
      "source": [
        "success = True\n",
        "count = 0\n",
        "pi = 3.14159\n",
        "msg = \"hello, world\"\n",
        "print(success, count, pi, msg)\n",
        "\n"
      ]
    },
    {
      "cell_type": "markdown",
      "source": [
        "**Working with Strings**"
      ],
      "metadata": {
        "id": "IwtaVXBNSzn7"
      }
    },
    {
      "cell_type": "code",
      "source": [
        "# string concatenation\n",
        "first = 'Brian'\n",
        "last = 'Toone'\n",
        "name = first + ' ' + last\n",
        "print(name)\n",
        "\n",
        "# string multiplication repeats the string \n",
        "eightzeros = 8*'0'\n",
        "print(eightzeros)\n",
        "\n",
        "# string manipulation\n",
        "# accessing an individual character\n",
        "print(name[0]) # first character\n",
        "print(name[-1]) # last character\n",
        "print(name[0:3]) # first three characters\n",
        "print(name[2:5]) # characters 2, 3, and 4\n",
        "print(name[1::2]) # every other character from beginning to end\n",
        "print(len(name)) # prints the length of the string"
      ],
      "metadata": {
        "colab": {
          "base_uri": "https://localhost:8080/"
        },
        "id": "HT-8COOhS3cT",
        "outputId": "86db72df-2170-4d90-b1fc-8c7ce627bb9e"
      },
      "execution_count": null,
      "outputs": [
        {
          "output_type": "stream",
          "name": "stdout",
          "text": [
            "Brian Toone\n",
            "00000000\n",
            "B\n",
            "e\n",
            "Bri\n",
            "ian\n",
            "ra on\n",
            "11\n"
          ]
        }
      ]
    },
    {
      "cell_type": "markdown",
      "source": [
        "**Lists**"
      ],
      "metadata": {
        "id": "bapw_5UgXrUR"
      }
    },
    {
      "cell_type": "code",
      "source": [
        "names = [] # creates an empty list\n",
        "names.append(\"Brian Toone\")\n",
        "names = names + [\"John Smith\", \"Sally Smith\", \"Sally Smith\"]\n",
        "print(names)\n",
        "\n",
        "nums = [3, 8, 2, 0, 1] # creates a list of numbers\n",
        "print(nums)\n",
        "\n",
        "print(names.pop(1)) # removes the item at position 1\n",
        "names.remove('Brian Toone') # removes the first item\n",
        "print(names)\n",
        "print(names.index('Sally Smith')) # returns the index of the given item"
      ],
      "metadata": {
        "colab": {
          "base_uri": "https://localhost:8080/"
        },
        "id": "b4yXGEemX2N8",
        "outputId": "c44c0f30-03b6-4758-bb0a-0dd7f50b787d"
      },
      "execution_count": null,
      "outputs": [
        {
          "output_type": "stream",
          "name": "stdout",
          "text": [
            "['Brian Toone', 'John Smith', 'Sally Smith', 'Sally Smith']\n",
            "[3, 8, 2, 0, 1]\n",
            "John Smith\n",
            "['Sally Smith', 'Sally Smith']\n",
            "0\n"
          ]
        }
      ]
    },
    {
      "cell_type": "markdown",
      "source": [
        "**Control flow statements**"
      ],
      "metadata": {
        "id": "-d9yFIFEcObr"
      }
    },
    {
      "cell_type": "code",
      "source": [
        "words = ['cat','window','defenestrate']\n",
        "for w in words:\n",
        "  print(w, len(w))"
      ],
      "metadata": {
        "colab": {
          "base_uri": "https://localhost:8080/"
        },
        "id": "-cFrPdAlcSbs",
        "outputId": "0fc53470-793e-48d4-84a9-8593bed2f2a5"
      },
      "execution_count": null,
      "outputs": [
        {
          "output_type": "stream",
          "name": "stdout",
          "text": [
            "cat 3\n",
            "window 6\n",
            "defenestrate 12\n"
          ]
        }
      ]
    },
    {
      "cell_type": "code",
      "source": [
        "for i, w in enumerate(words):\n",
        "  print(i, w)"
      ],
      "metadata": {
        "colab": {
          "base_uri": "https://localhost:8080/"
        },
        "id": "xhgpKOlMcqXa",
        "outputId": "14fdd646-7f88-4bdb-b4b6-9574d378e8e5"
      },
      "execution_count": null,
      "outputs": [
        {
          "output_type": "stream",
          "name": "stdout",
          "text": [
            "0 cat\n",
            "1 window\n",
            "2 defenestrate\n"
          ]
        }
      ]
    },
    {
      "cell_type": "code",
      "source": [
        "for i in range(len(words)):\n",
        "  print(i, words[i])"
      ],
      "metadata": {
        "colab": {
          "base_uri": "https://localhost:8080/"
        },
        "id": "ZAACiXjYdpVw",
        "outputId": "06f414a8-0ae1-4922-b5c7-d25c5c43d2c9"
      },
      "execution_count": null,
      "outputs": [
        {
          "output_type": "stream",
          "name": "stdout",
          "text": [
            "0 cat\n",
            "1 window\n",
            "2 defenestrate\n"
          ]
        }
      ]
    }
  ]
}